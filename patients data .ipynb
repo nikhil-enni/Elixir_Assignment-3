{
 "cells": [
  {
   "cell_type": "code",
   "execution_count": 1,
   "id": "57d8d44e",
   "metadata": {},
   "outputs": [],
   "source": [
    "import pandas as pd\n",
    "patients_df = pd.read_csv(\"/Users/sri_sai_nikhil_enni/Documents/DMDD/Assignment 3/train.csv\")\n",
    "patients_df.drop(columns = [\"Hospital_type_code\",\"City_Code_Hospital\",\"Hospital_region_code\",\"Available Extra Rooms in Hospital\"],inplace = True)\n"
   ]
  },
  {
   "cell_type": "code",
   "execution_count": 2,
   "id": "7aa363f0",
   "metadata": {},
   "outputs": [
    {
     "data": {
      "text/plain": [
       "Index(['case_id', 'Hospital_code', 'Department', 'Ward_Type',\n",
       "       'Ward_Facility_Code', 'Bed Grade', 'patientid', 'City_Code_Patient',\n",
       "       'Type of Admission', 'Severity of Illness', 'Visitors with Patient',\n",
       "       'Age', 'Admission_Deposit', 'Stay'],\n",
       "      dtype='object')"
      ]
     },
     "execution_count": 2,
     "metadata": {},
     "output_type": "execute_result"
    }
   ],
   "source": [
    "patients_df.columns"
   ]
  },
  {
   "cell_type": "code",
   "execution_count": 5,
   "id": "71888a2d",
   "metadata": {},
   "outputs": [],
   "source": [
    "from tqdm import tqdm"
   ]
  },
  {
   "cell_type": "code",
   "execution_count": 7,
   "id": "c7391825-941e-4c2f-a7d9-9b25f0377ac9",
   "metadata": {},
   "outputs": [
    {
     "name": "stdout",
     "output_type": "stream",
     "text": [
      "Collecting faker\n",
      "  Downloading Faker-15.3.4-py3-none-any.whl (1.6 MB)\n",
      "\u001b[2K     \u001b[90m━━━━━━━━━━━━━━━━━━━━━━━━━━━━━━━━━━━━━━━━\u001b[0m \u001b[32m1.6/1.6 MB\u001b[0m \u001b[31m12.4 MB/s\u001b[0m eta \u001b[36m0:00:00\u001b[0m00:01\u001b[0m0:01\u001b[0m\n",
      "\u001b[?25hRequirement already satisfied: python-dateutil>=2.4 in /Users/sri_sai_nikhil_enni/opt/anaconda3/lib/python3.9/site-packages (from faker) (2.8.2)\n",
      "Requirement already satisfied: six>=1.5 in /Users/sri_sai_nikhil_enni/opt/anaconda3/lib/python3.9/site-packages (from python-dateutil>=2.4->faker) (1.16.0)\n",
      "Installing collected packages: faker\n",
      "Successfully installed faker-15.3.4\n",
      "Note: you may need to restart the kernel to use updated packages.\n"
     ]
    }
   ],
   "source": [
    "pip install faker"
   ]
  },
  {
   "cell_type": "code",
   "execution_count": 8,
   "id": "67c87a4b",
   "metadata": {},
   "outputs": [
    {
     "name": "stderr",
     "output_type": "stream",
     "text": [
      "100%|██████████| 92017/92017 [00:07<00:00, 12190.64it/s]\n"
     ]
    }
   ],
   "source": [
    "from faker import Faker\n",
    "fake = Faker()\n",
    "\n",
    "names = []\n",
    "for i in tqdm(range(patients_df['patientid'].nunique())):\n",
    "    names.append(fake.name().lower())"
   ]
  },
  {
   "cell_type": "code",
   "execution_count": null,
   "id": "2491309f",
   "metadata": {},
   "outputs": [],
   "source": []
  },
  {
   "cell_type": "code",
   "execution_count": 9,
   "id": "58e42bc1",
   "metadata": {},
   "outputs": [
    {
     "data": {
      "text/plain": [
       "array([ 7.,  8.,  2.,  5.,  6.,  3.,  4.,  1.,  9., 14., nan, 25., 15.,\n",
       "       12., 10., 28., 24., 23., 20., 11., 13., 21., 18., 16., 26., 27.,\n",
       "       22., 19., 31., 34., 32., 30., 29., 37., 33., 35., 36., 38.])"
      ]
     },
     "execution_count": 9,
     "metadata": {},
     "output_type": "execute_result"
    }
   ],
   "source": [
    "patients_df['City_Code_Patient'].unique()"
   ]
  },
  {
   "cell_type": "code",
   "execution_count": 10,
   "id": "8f419d54",
   "metadata": {},
   "outputs": [
    {
     "data": {
      "text/html": [
       "<div>\n",
       "<style scoped>\n",
       "    .dataframe tbody tr th:only-of-type {\n",
       "        vertical-align: middle;\n",
       "    }\n",
       "\n",
       "    .dataframe tbody tr th {\n",
       "        vertical-align: top;\n",
       "    }\n",
       "\n",
       "    .dataframe thead th {\n",
       "        text-align: right;\n",
       "    }\n",
       "</style>\n",
       "<table border=\"1\" class=\"dataframe\">\n",
       "  <thead>\n",
       "    <tr style=\"text-align: right;\">\n",
       "      <th></th>\n",
       "      <th>patientid</th>\n",
       "      <th>name</th>\n",
       "    </tr>\n",
       "  </thead>\n",
       "  <tbody>\n",
       "    <tr>\n",
       "      <th>0</th>\n",
       "      <td>31397</td>\n",
       "      <td>lydia blackwell</td>\n",
       "    </tr>\n",
       "    <tr>\n",
       "      <th>1</th>\n",
       "      <td>63418</td>\n",
       "      <td>ronald johnson</td>\n",
       "    </tr>\n",
       "    <tr>\n",
       "      <th>2</th>\n",
       "      <td>8088</td>\n",
       "      <td>michelle gonzales</td>\n",
       "    </tr>\n",
       "    <tr>\n",
       "      <th>3</th>\n",
       "      <td>28843</td>\n",
       "      <td>miguel carter</td>\n",
       "    </tr>\n",
       "    <tr>\n",
       "      <th>4</th>\n",
       "      <td>109338</td>\n",
       "      <td>molly villarreal</td>\n",
       "    </tr>\n",
       "  </tbody>\n",
       "</table>\n",
       "</div>"
      ],
      "text/plain": [
       "   patientid               name\n",
       "0      31397    lydia blackwell\n",
       "1      63418     ronald johnson\n",
       "2       8088  michelle gonzales\n",
       "3      28843      miguel carter\n",
       "4     109338   molly villarreal"
      ]
     },
     "execution_count": 10,
     "metadata": {},
     "output_type": "execute_result"
    }
   ],
   "source": [
    "patients_df1 = pd.DataFrame()\n",
    "patients_df1['patientid'] = patients_df['patientid'].unique()\n",
    "patients_df1['name'] = names\n",
    "patients_df1.head()"
   ]
  },
  {
   "cell_type": "code",
   "execution_count": 11,
   "id": "53a6d919",
   "metadata": {},
   "outputs": [],
   "source": [
    "patients_df2 = pd.merge(patients_df1,patients_df[['patientid','Age']],on = 'patientid')"
   ]
  },
  {
   "cell_type": "code",
   "execution_count": 12,
   "id": "5b765ba2",
   "metadata": {},
   "outputs": [],
   "source": [
    "#2Interval Age to Integer Age\n",
    "patients_df2['Age'] = patients_df2['Age'].apply(lambda x : sum([int(i.strip()) for i in x.split(\"-\")])*0.5)\n",
    "patients_df2 = patients_df2.rename(columns = {\"Age\":\"age\"})"
   ]
  },
  {
   "cell_type": "code",
   "execution_count": 13,
   "id": "8a9f39e7",
   "metadata": {},
   "outputs": [
    {
     "data": {
      "text/html": [
       "<div>\n",
       "<style scoped>\n",
       "    .dataframe tbody tr th:only-of-type {\n",
       "        vertical-align: middle;\n",
       "    }\n",
       "\n",
       "    .dataframe tbody tr th {\n",
       "        vertical-align: top;\n",
       "    }\n",
       "\n",
       "    .dataframe thead th {\n",
       "        text-align: right;\n",
       "    }\n",
       "</style>\n",
       "<table border=\"1\" class=\"dataframe\">\n",
       "  <thead>\n",
       "    <tr style=\"text-align: right;\">\n",
       "      <th></th>\n",
       "      <th>patientid</th>\n",
       "      <th>name</th>\n",
       "      <th>age</th>\n",
       "    </tr>\n",
       "  </thead>\n",
       "  <tbody>\n",
       "    <tr>\n",
       "      <th>0</th>\n",
       "      <td>31397</td>\n",
       "      <td>lydia blackwell</td>\n",
       "      <td>55.5</td>\n",
       "    </tr>\n",
       "    <tr>\n",
       "      <th>1</th>\n",
       "      <td>31397</td>\n",
       "      <td>lydia blackwell</td>\n",
       "      <td>55.5</td>\n",
       "    </tr>\n",
       "    <tr>\n",
       "      <th>2</th>\n",
       "      <td>31397</td>\n",
       "      <td>lydia blackwell</td>\n",
       "      <td>55.5</td>\n",
       "    </tr>\n",
       "    <tr>\n",
       "      <th>3</th>\n",
       "      <td>31397</td>\n",
       "      <td>lydia blackwell</td>\n",
       "      <td>55.5</td>\n",
       "    </tr>\n",
       "    <tr>\n",
       "      <th>4</th>\n",
       "      <td>31397</td>\n",
       "      <td>lydia blackwell</td>\n",
       "      <td>55.5</td>\n",
       "    </tr>\n",
       "  </tbody>\n",
       "</table>\n",
       "</div>"
      ],
      "text/plain": [
       "   patientid             name   age\n",
       "0      31397  lydia blackwell  55.5\n",
       "1      31397  lydia blackwell  55.5\n",
       "2      31397  lydia blackwell  55.5\n",
       "3      31397  lydia blackwell  55.5\n",
       "4      31397  lydia blackwell  55.5"
      ]
     },
     "execution_count": 13,
     "metadata": {},
     "output_type": "execute_result"
    }
   ],
   "source": [
    "patients_df2.head()"
   ]
  },
  {
   "cell_type": "code",
   "execution_count": 57,
   "id": "45809232",
   "metadata": {},
   "outputs": [],
   "source": []
  },
  {
   "cell_type": "code",
   "execution_count": 14,
   "id": "26087862",
   "metadata": {},
   "outputs": [
    {
     "data": {
      "text/html": [
       "<div>\n",
       "<style scoped>\n",
       "    .dataframe tbody tr th:only-of-type {\n",
       "        vertical-align: middle;\n",
       "    }\n",
       "\n",
       "    .dataframe tbody tr th {\n",
       "        vertical-align: top;\n",
       "    }\n",
       "\n",
       "    .dataframe thead th {\n",
       "        text-align: right;\n",
       "    }\n",
       "</style>\n",
       "<table border=\"1\" class=\"dataframe\">\n",
       "  <thead>\n",
       "    <tr style=\"text-align: right;\">\n",
       "      <th></th>\n",
       "      <th>patientid</th>\n",
       "      <th>name</th>\n",
       "      <th>age</th>\n",
       "    </tr>\n",
       "  </thead>\n",
       "  <tbody>\n",
       "    <tr>\n",
       "      <th>0</th>\n",
       "      <td>31397</td>\n",
       "      <td>lydia blackwell</td>\n",
       "      <td>55.5</td>\n",
       "    </tr>\n",
       "    <tr>\n",
       "      <th>1</th>\n",
       "      <td>63418</td>\n",
       "      <td>ronald johnson</td>\n",
       "      <td>75.5</td>\n",
       "    </tr>\n",
       "    <tr>\n",
       "      <th>2</th>\n",
       "      <td>8088</td>\n",
       "      <td>michelle gonzales</td>\n",
       "      <td>35.5</td>\n",
       "    </tr>\n",
       "    <tr>\n",
       "      <th>3</th>\n",
       "      <td>28843</td>\n",
       "      <td>miguel carter</td>\n",
       "      <td>45.5</td>\n",
       "    </tr>\n",
       "    <tr>\n",
       "      <th>4</th>\n",
       "      <td>109338</td>\n",
       "      <td>molly villarreal</td>\n",
       "      <td>35.5</td>\n",
       "    </tr>\n",
       "  </tbody>\n",
       "</table>\n",
       "</div>"
      ],
      "text/plain": [
       "   patientid               name   age\n",
       "0      31397    lydia blackwell  55.5\n",
       "1      63418     ronald johnson  75.5\n",
       "2       8088  michelle gonzales  35.5\n",
       "3      28843      miguel carter  45.5\n",
       "4     109338   molly villarreal  35.5"
      ]
     },
     "execution_count": 14,
     "metadata": {},
     "output_type": "execute_result"
    }
   ],
   "source": [
    "patients_df2 = patients_df2.drop_duplicates().reset_index(drop = True)\n",
    "patients_df2.head()"
   ]
  },
  {
   "cell_type": "code",
   "execution_count": 15,
   "id": "2712f081",
   "metadata": {},
   "outputs": [
    {
     "data": {
      "text/html": [
       "<div>\n",
       "<style scoped>\n",
       "    .dataframe tbody tr th:only-of-type {\n",
       "        vertical-align: middle;\n",
       "    }\n",
       "\n",
       "    .dataframe tbody tr th {\n",
       "        vertical-align: top;\n",
       "    }\n",
       "\n",
       "    .dataframe thead th {\n",
       "        text-align: right;\n",
       "    }\n",
       "</style>\n",
       "<table border=\"1\" class=\"dataframe\">\n",
       "  <thead>\n",
       "    <tr style=\"text-align: right;\">\n",
       "      <th></th>\n",
       "      <th>patientid</th>\n",
       "      <th>name</th>\n",
       "      <th>age</th>\n",
       "    </tr>\n",
       "  </thead>\n",
       "  <tbody>\n",
       "    <tr>\n",
       "      <th>0</th>\n",
       "      <td>31397</td>\n",
       "      <td>lydia blackwell</td>\n",
       "      <td>55.5</td>\n",
       "    </tr>\n",
       "    <tr>\n",
       "      <th>1</th>\n",
       "      <td>63418</td>\n",
       "      <td>ronald johnson</td>\n",
       "      <td>75.5</td>\n",
       "    </tr>\n",
       "    <tr>\n",
       "      <th>2</th>\n",
       "      <td>8088</td>\n",
       "      <td>michelle gonzales</td>\n",
       "      <td>35.5</td>\n",
       "    </tr>\n",
       "    <tr>\n",
       "      <th>3</th>\n",
       "      <td>28843</td>\n",
       "      <td>miguel carter</td>\n",
       "      <td>45.5</td>\n",
       "    </tr>\n",
       "    <tr>\n",
       "      <th>4</th>\n",
       "      <td>109338</td>\n",
       "      <td>molly villarreal</td>\n",
       "      <td>35.5</td>\n",
       "    </tr>\n",
       "    <tr>\n",
       "      <th>...</th>\n",
       "      <td>...</td>\n",
       "      <td>...</td>\n",
       "      <td>...</td>\n",
       "    </tr>\n",
       "    <tr>\n",
       "      <th>92012</th>\n",
       "      <td>86499</td>\n",
       "      <td>deborah jackson</td>\n",
       "      <td>45.5</td>\n",
       "    </tr>\n",
       "    <tr>\n",
       "      <th>92013</th>\n",
       "      <td>325</td>\n",
       "      <td>brenda johnson</td>\n",
       "      <td>85.5</td>\n",
       "    </tr>\n",
       "    <tr>\n",
       "      <th>92014</th>\n",
       "      <td>125235</td>\n",
       "      <td>adam moore</td>\n",
       "      <td>75.5</td>\n",
       "    </tr>\n",
       "    <tr>\n",
       "      <th>92015</th>\n",
       "      <td>91081</td>\n",
       "      <td>bonnie contreras</td>\n",
       "      <td>15.5</td>\n",
       "    </tr>\n",
       "    <tr>\n",
       "      <th>92016</th>\n",
       "      <td>21641</td>\n",
       "      <td>mark lee</td>\n",
       "      <td>15.5</td>\n",
       "    </tr>\n",
       "  </tbody>\n",
       "</table>\n",
       "<p>92017 rows × 3 columns</p>\n",
       "</div>"
      ],
      "text/plain": [
       "       patientid               name   age\n",
       "0          31397    lydia blackwell  55.5\n",
       "1          63418     ronald johnson  75.5\n",
       "2           8088  michelle gonzales  35.5\n",
       "3          28843      miguel carter  45.5\n",
       "4         109338   molly villarreal  35.5\n",
       "...          ...                ...   ...\n",
       "92012      86499    deborah jackson  45.5\n",
       "92013        325     brenda johnson  85.5\n",
       "92014     125235         adam moore  75.5\n",
       "92015      91081   bonnie contreras  15.5\n",
       "92016      21641           mark lee  15.5\n",
       "\n",
       "[92017 rows x 3 columns]"
      ]
     },
     "execution_count": 15,
     "metadata": {},
     "output_type": "execute_result"
    }
   ],
   "source": [
    "patients_df2"
   ]
  },
  {
   "cell_type": "code",
   "execution_count": 16,
   "id": "e1c7dba5",
   "metadata": {},
   "outputs": [],
   "source": [
    "patients_df2.to_csv(\"/Users/sri_sai_nikhil_enni/Documents/DMDD/Assignment 3/patients_data.csv\",index = False)"
   ]
  },
  {
   "cell_type": "code",
   "execution_count": null,
   "id": "69a49acf",
   "metadata": {},
   "outputs": [],
   "source": []
  }
 ],
 "metadata": {
  "kernelspec": {
   "display_name": "Python 3 (ipykernel)",
   "language": "python",
   "name": "python3"
  },
  "language_info": {
   "codemirror_mode": {
    "name": "ipython",
    "version": 3
   },
   "file_extension": ".py",
   "mimetype": "text/x-python",
   "name": "python",
   "nbconvert_exporter": "python",
   "pygments_lexer": "ipython3",
   "version": "3.9.13"
  }
 },
 "nbformat": 4,
 "nbformat_minor": 5
}
